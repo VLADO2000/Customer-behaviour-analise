{
 "cells": [
  {
   "cell_type": "code",
   "execution_count": 1,
   "id": "d0c7a4e4",
   "metadata": {},
   "outputs": [],
   "source": [
    "import pandas as pd"
   ]
  },
  {
   "cell_type": "code",
   "execution_count": 2,
   "id": "4069490a",
   "metadata": {},
   "outputs": [],
   "source": [
    "transactions_df = pd.read_excel(\"Analyticke zadanie 2021.xlsx\", sheet_name='transactions')"
   ]
  },
  {
   "cell_type": "code",
   "execution_count": 3,
   "id": "879d557e",
   "metadata": {},
   "outputs": [],
   "source": [
    "products_df = pd.read_excel(\"Analyticke zadanie 2021.xlsx\", sheet_name='products')"
   ]
  },
  {
   "cell_type": "code",
   "execution_count": 4,
   "id": "004c3347",
   "metadata": {},
   "outputs": [],
   "source": [
    "#Dropping column \"idcustomer\", because it has a lot of empty cells\n",
    "transactions_df.drop(['idcustomer'], axis=1, inplace=True)"
   ]
  },
  {
   "cell_type": "code",
   "execution_count": 5,
   "id": "05d08e00",
   "metadata": {},
   "outputs": [],
   "source": [
    "products_df.drop(['atc'], axis=1, inplace=True)"
   ]
  },
  {
   "cell_type": "code",
   "execution_count": 6,
   "id": "f2c2866e",
   "metadata": {},
   "outputs": [
    {
     "data": {
      "text/plain": [
       "idproduct       16058\n",
       "product_name    13879\n",
       "product_form     4680\n",
       "product_type        3\n",
       "kategoria 0        22\n",
       "kategoria 1        71\n",
       "kategoria 2        52\n",
       "kategoria 3        17\n",
       "dtype: int64"
      ]
     },
     "execution_count": 6,
     "metadata": {},
     "output_type": "execute_result"
    }
   ],
   "source": [
    "#Here we see amount 16058 of presented products\n",
    "products_df.nunique()"
   ]
  },
  {
   "cell_type": "code",
   "execution_count": 7,
   "id": "981b4215",
   "metadata": {},
   "outputs": [
    {
     "data": {
      "text/plain": [
       "dateorder       59\n",
       "idbill       82725\n",
       "idproduct     2269\n",
       "qty             49\n",
       "price         3530\n",
       "dtype: int64"
      ]
     },
     "execution_count": 7,
     "metadata": {},
     "output_type": "execute_result"
    }
   ],
   "source": [
    "#From 168603 transaction We have 2269 distinct id rpoducts,means that there is products which customers likes more\n",
    "transactions_df.nunique()"
   ]
  },
  {
   "cell_type": "code",
   "execution_count": 8,
   "id": "e4482338",
   "metadata": {},
   "outputs": [],
   "source": [
    "df_freq = pd.DataFrame({'count':transactions_df.groupby(['idproduct']).size()}).reset_index()"
   ]
  },
  {
   "cell_type": "code",
   "execution_count": 9,
   "id": "8abe21ab",
   "metadata": {},
   "outputs": [
    {
     "data": {
      "text/html": [
       "<div>\n",
       "<style scoped>\n",
       "    .dataframe tbody tr th:only-of-type {\n",
       "        vertical-align: middle;\n",
       "    }\n",
       "\n",
       "    .dataframe tbody tr th {\n",
       "        vertical-align: top;\n",
       "    }\n",
       "\n",
       "    .dataframe thead th {\n",
       "        text-align: right;\n",
       "    }\n",
       "</style>\n",
       "<table border=\"1\" class=\"dataframe\">\n",
       "  <thead>\n",
       "    <tr style=\"text-align: right;\">\n",
       "      <th></th>\n",
       "      <th>idproduct</th>\n",
       "      <th>count</th>\n",
       "    </tr>\n",
       "  </thead>\n",
       "  <tbody>\n",
       "    <tr>\n",
       "      <th>187</th>\n",
       "      <td>30365</td>\n",
       "      <td>6786</td>\n",
       "    </tr>\n",
       "    <tr>\n",
       "      <th>140</th>\n",
       "      <td>28533</td>\n",
       "      <td>3570</td>\n",
       "    </tr>\n",
       "    <tr>\n",
       "      <th>21</th>\n",
       "      <td>906</td>\n",
       "      <td>3203</td>\n",
       "    </tr>\n",
       "    <tr>\n",
       "      <th>125</th>\n",
       "      <td>25655</td>\n",
       "      <td>2304</td>\n",
       "    </tr>\n",
       "    <tr>\n",
       "      <th>249</th>\n",
       "      <td>36872</td>\n",
       "      <td>2061</td>\n",
       "    </tr>\n",
       "    <tr>\n",
       "      <th>...</th>\n",
       "      <td>...</td>\n",
       "      <td>...</td>\n",
       "    </tr>\n",
       "    <tr>\n",
       "      <th>2010</th>\n",
       "      <td>185677</td>\n",
       "      <td>1</td>\n",
       "    </tr>\n",
       "    <tr>\n",
       "      <th>2017</th>\n",
       "      <td>185808</td>\n",
       "      <td>1</td>\n",
       "    </tr>\n",
       "    <tr>\n",
       "      <th>105</th>\n",
       "      <td>16119</td>\n",
       "      <td>1</td>\n",
       "    </tr>\n",
       "    <tr>\n",
       "      <th>472</th>\n",
       "      <td>107761</td>\n",
       "      <td>1</td>\n",
       "    </tr>\n",
       "    <tr>\n",
       "      <th>434</th>\n",
       "      <td>96333</td>\n",
       "      <td>1</td>\n",
       "    </tr>\n",
       "  </tbody>\n",
       "</table>\n",
       "<p>2269 rows × 2 columns</p>\n",
       "</div>"
      ],
      "text/plain": [
       "      idproduct  count\n",
       "187       30365   6786\n",
       "140       28533   3570\n",
       "21          906   3203\n",
       "125       25655   2304\n",
       "249       36872   2061\n",
       "...         ...    ...\n",
       "2010     185677      1\n",
       "2017     185808      1\n",
       "105       16119      1\n",
       "472      107761      1\n",
       "434       96333      1\n",
       "\n",
       "[2269 rows x 2 columns]"
      ]
     },
     "execution_count": 9,
     "metadata": {},
     "output_type": "execute_result"
    }
   ],
   "source": [
    "#Here we can see that the most purchased product id is 30365\n",
    "df_freq.sort_values(by='count', ascending=False)"
   ]
  },
  {
   "cell_type": "code",
   "execution_count": 10,
   "id": "94c533bd",
   "metadata": {},
   "outputs": [],
   "source": [
    "#Making our frame smaller, count only products which had purchased more than 500 quantyties\n",
    "filtered_df = df_freq.query('count>=1000')"
   ]
  },
  {
   "cell_type": "code",
   "execution_count": 11,
   "id": "769befc5",
   "metadata": {},
   "outputs": [],
   "source": [
    "filtered_df = filtered_df.set_index('idproduct')\n"
   ]
  },
  {
   "cell_type": "code",
   "execution_count": 12,
   "id": "f0899f11",
   "metadata": {},
   "outputs": [
    {
     "data": {
      "text/plain": [
       "Int64Index([   407,    906,   2971,   2972,  25655,  27082,  28533,  30365,\n",
       "             32570,  34631,  36496,  36872,  51526,  53371,  75593, 114184,\n",
       "            120205, 149133, 162402, 167750, 171346, 175376, 175878],\n",
       "           dtype='int64', name='idproduct')"
      ]
     },
     "execution_count": 12,
     "metadata": {},
     "output_type": "execute_result"
    }
   ],
   "source": [
    "filtered_df.index"
   ]
  },
  {
   "cell_type": "code",
   "execution_count": 13,
   "id": "b8dd5fbc",
   "metadata": {},
   "outputs": [
    {
     "data": {
      "text/plain": [
       "Int64Index([   407,    906,   2971,   2972,  25655,  27082,  28533,  30365,\n",
       "             32570,  34631,  36496,  36872,  51526,  53371,  75593, 114184,\n",
       "            120205, 149133, 162402, 167750, 171346, 175376, 175878],\n",
       "           dtype='int64', name='idproduct')"
      ]
     },
     "execution_count": 13,
     "metadata": {},
     "output_type": "execute_result"
    }
   ],
   "source": [
    "index_array = filtered_df.index\n",
    "index_array"
   ]
  },
  {
   "cell_type": "code",
   "execution_count": 14,
   "id": "126e0d00",
   "metadata": {},
   "outputs": [
    {
     "data": {
      "text/plain": [
       "0        False\n",
       "1        False\n",
       "2        False\n",
       "3        False\n",
       "4        False\n",
       "         ...  \n",
       "16053    False\n",
       "16054    False\n",
       "16055    False\n",
       "16056    False\n",
       "16057    False\n",
       "Name: idproduct, Length: 16058, dtype: bool"
      ]
     },
     "execution_count": 14,
     "metadata": {},
     "output_type": "execute_result"
    }
   ],
   "source": [
    "#Searching fro best purchased products in table \"products_df\"\n",
    "mask = products_df['idproduct'].isin(index_array)\n",
    "mask"
   ]
  },
  {
   "cell_type": "code",
   "execution_count": 17,
   "id": "80d85e80",
   "metadata": {},
   "outputs": [
    {
     "data": {
      "text/html": [
       "<div>\n",
       "<style scoped>\n",
       "    .dataframe tbody tr th:only-of-type {\n",
       "        vertical-align: middle;\n",
       "    }\n",
       "\n",
       "    .dataframe tbody tr th {\n",
       "        vertical-align: top;\n",
       "    }\n",
       "\n",
       "    .dataframe thead th {\n",
       "        text-align: right;\n",
       "    }\n",
       "</style>\n",
       "<table border=\"1\" class=\"dataframe\">\n",
       "  <thead>\n",
       "    <tr style=\"text-align: right;\">\n",
       "      <th></th>\n",
       "      <th>idproduct</th>\n",
       "      <th>product_name</th>\n",
       "      <th>product_form</th>\n",
       "      <th>product_type</th>\n",
       "      <th>kategoria 0</th>\n",
       "      <th>kategoria 1</th>\n",
       "      <th>kategoria 2</th>\n",
       "      <th>kategoria 3</th>\n",
       "    </tr>\n",
       "  </thead>\n",
       "  <tbody>\n",
       "    <tr>\n",
       "      <th>50</th>\n",
       "      <td>407</td>\n",
       "      <td>Dorsiflex</td>\n",
       "      <td>tbl 30x200mg</td>\n",
       "      <td>RX</td>\n",
       "      <td>Nepriradená</td>\n",
       "      <td>Nepriradená</td>\n",
       "      <td>Nepriradená</td>\n",
       "      <td>Nepriradená</td>\n",
       "    </tr>\n",
       "    <tr>\n",
       "      <th>84</th>\n",
       "      <td>906</td>\n",
       "      <td>Acylpyrin</td>\n",
       "      <td>tbl 10x500mg</td>\n",
       "      <td>OTC</td>\n",
       "      <td>BOLESŤ A HORÚČKA OTC</td>\n",
       "      <td>Nepriradená</td>\n",
       "      <td>Nepriradená</td>\n",
       "      <td>Nepriradená</td>\n",
       "    </tr>\n",
       "    <tr>\n",
       "      <th>251</th>\n",
       "      <td>2971</td>\n",
       "      <td>Nasivin</td>\n",
       "      <td>gtt nas 10ml 0,05%</td>\n",
       "      <td>OTC</td>\n",
       "      <td>Nepriradená</td>\n",
       "      <td>Nepriradená</td>\n",
       "      <td>Nepriradená</td>\n",
       "      <td>Nepriradená</td>\n",
       "    </tr>\n",
       "    <tr>\n",
       "      <th>252</th>\n",
       "      <td>2972</td>\n",
       "      <td>Nasivin</td>\n",
       "      <td>aer nas 10ml 0,05% sklo</td>\n",
       "      <td>OTC</td>\n",
       "      <td>Nepriradená</td>\n",
       "      <td>Nepriradená</td>\n",
       "      <td>Nepriradená</td>\n",
       "      <td>Nepriradená</td>\n",
       "    </tr>\n",
       "    <tr>\n",
       "      <th>413</th>\n",
       "      <td>25655</td>\n",
       "      <td>Concor 5</td>\n",
       "      <td>tbl flm 30x5mg</td>\n",
       "      <td>RX</td>\n",
       "      <td>Nepriradená</td>\n",
       "      <td>Nepriradená</td>\n",
       "      <td>Nepriradená</td>\n",
       "      <td>Nepriradená</td>\n",
       "    </tr>\n",
       "    <tr>\n",
       "      <th>452</th>\n",
       "      <td>27082</td>\n",
       "      <td>Furon</td>\n",
       "      <td>tbl 50x40mg</td>\n",
       "      <td>RX</td>\n",
       "      <td>Nepriradená</td>\n",
       "      <td>Nepriradená</td>\n",
       "      <td>Nepriradená</td>\n",
       "      <td>Nepriradená</td>\n",
       "    </tr>\n",
       "    <tr>\n",
       "      <th>486</th>\n",
       "      <td>28533</td>\n",
       "      <td>Novalgin</td>\n",
       "      <td>tbl flm 20x500mg</td>\n",
       "      <td>RX</td>\n",
       "      <td>Nepriradená</td>\n",
       "      <td>Nepriradená</td>\n",
       "      <td>Nepriradená</td>\n",
       "      <td>Nepriradená</td>\n",
       "    </tr>\n",
       "    <tr>\n",
       "      <th>659</th>\n",
       "      <td>30365</td>\n",
       "      <td>Muconasal plus</td>\n",
       "      <td>aer nao 10ml</td>\n",
       "      <td>OTC</td>\n",
       "      <td>NÁDCHA OTC</td>\n",
       "      <td>dospelí</td>\n",
       "      <td>spreje</td>\n",
       "      <td>Nepriradená</td>\n",
       "    </tr>\n",
       "    <tr>\n",
       "      <th>900</th>\n",
       "      <td>32570</td>\n",
       "      <td>Sinupret</td>\n",
       "      <td>gtt 100ml</td>\n",
       "      <td>OTC</td>\n",
       "      <td>Nepriradená</td>\n",
       "      <td>Nepriradená</td>\n",
       "      <td>Nepriradená</td>\n",
       "      <td>Nepriradená</td>\n",
       "    </tr>\n",
       "    <tr>\n",
       "      <th>1034</th>\n",
       "      <td>34631</td>\n",
       "      <td>Stilnox</td>\n",
       "      <td>tbl obd 20x10mg</td>\n",
       "      <td>RX</td>\n",
       "      <td>Nepriradená</td>\n",
       "      <td>Nepriradená</td>\n",
       "      <td>Nepriradená</td>\n",
       "      <td>Nepriradená</td>\n",
       "    </tr>\n",
       "    <tr>\n",
       "      <th>1144</th>\n",
       "      <td>36496</td>\n",
       "      <td>Betaloc zok</td>\n",
       "      <td>tbl mod 28x50mg</td>\n",
       "      <td>RX</td>\n",
       "      <td>Nepriradená</td>\n",
       "      <td>Nepriradená</td>\n",
       "      <td>Nepriradená</td>\n",
       "      <td>Nepriradená</td>\n",
       "    </tr>\n",
       "    <tr>\n",
       "      <th>1178</th>\n",
       "      <td>36872</td>\n",
       "      <td>Nebilet</td>\n",
       "      <td>tbl 28x5mg</td>\n",
       "      <td>RX</td>\n",
       "      <td>Nepriradená</td>\n",
       "      <td>Nepriradená</td>\n",
       "      <td>Nepriradená</td>\n",
       "      <td>Nepriradená</td>\n",
       "    </tr>\n",
       "    <tr>\n",
       "      <th>1509</th>\n",
       "      <td>51526</td>\n",
       "      <td>Agen 5</td>\n",
       "      <td>tbl 30x5mg</td>\n",
       "      <td>RX</td>\n",
       "      <td>Nepriradená</td>\n",
       "      <td>Nepriradená</td>\n",
       "      <td>Nepriradená</td>\n",
       "      <td>Nepriradená</td>\n",
       "    </tr>\n",
       "    <tr>\n",
       "      <th>1597</th>\n",
       "      <td>53371</td>\n",
       "      <td>Enelbin retard</td>\n",
       "      <td>tbl flm 100x100mg</td>\n",
       "      <td>RX</td>\n",
       "      <td>Nepriradená</td>\n",
       "      <td>Nepriradená</td>\n",
       "      <td>Nepriradená</td>\n",
       "      <td>Nepriradená</td>\n",
       "    </tr>\n",
       "    <tr>\n",
       "      <th>1945</th>\n",
       "      <td>75593</td>\n",
       "      <td>Neurol</td>\n",
       "      <td>tbl 30x0,5mg</td>\n",
       "      <td>RX</td>\n",
       "      <td>Nepriradená</td>\n",
       "      <td>Nepriradená</td>\n",
       "      <td>Nepriradená</td>\n",
       "      <td>Nepriradená</td>\n",
       "    </tr>\n",
       "    <tr>\n",
       "      <th>2940</th>\n",
       "      <td>114184</td>\n",
       "      <td>Nasivin soft</td>\n",
       "      <td>aer nao 1x10ml 0,05%</td>\n",
       "      <td>OTC</td>\n",
       "      <td>Nepriradená</td>\n",
       "      <td>Nepriradená</td>\n",
       "      <td>Nepriradená</td>\n",
       "      <td>Nepriradená</td>\n",
       "    </tr>\n",
       "    <tr>\n",
       "      <th>3288</th>\n",
       "      <td>120205</td>\n",
       "      <td>Prenessa</td>\n",
       "      <td>tbl 90x4mg</td>\n",
       "      <td>RX</td>\n",
       "      <td>Nepriradená</td>\n",
       "      <td>Nepriradená</td>\n",
       "      <td>Nepriradená</td>\n",
       "      <td>Nepriradená</td>\n",
       "    </tr>\n",
       "    <tr>\n",
       "      <th>4771</th>\n",
       "      <td>149133</td>\n",
       "      <td>Theraflu</td>\n",
       "      <td>plo por 14ks</td>\n",
       "      <td>OTC</td>\n",
       "      <td>CHRÍPKA A PRECHLADNUTIE OTC</td>\n",
       "      <td>kombinované lieky</td>\n",
       "      <td>prášky</td>\n",
       "      <td>Nepriradená</td>\n",
       "    </tr>\n",
       "    <tr>\n",
       "      <th>5744</th>\n",
       "      <td>162402</td>\n",
       "      <td>Nasivin soft</td>\n",
       "      <td>aer nao 1x10 ml 0,025%</td>\n",
       "      <td>OTC</td>\n",
       "      <td>Nepriradená</td>\n",
       "      <td>Nepriradená</td>\n",
       "      <td>Nepriradená</td>\n",
       "      <td>Nepriradená</td>\n",
       "    </tr>\n",
       "    <tr>\n",
       "      <th>6763</th>\n",
       "      <td>167750</td>\n",
       "      <td>Paralen grip chripka a bolest</td>\n",
       "      <td>tbl flm 24</td>\n",
       "      <td>OTC</td>\n",
       "      <td>Nepriradená</td>\n",
       "      <td>Nepriradená</td>\n",
       "      <td>Nepriradená</td>\n",
       "      <td>Nepriradená</td>\n",
       "    </tr>\n",
       "    <tr>\n",
       "      <th>7598</th>\n",
       "      <td>171346</td>\n",
       "      <td>Tebokan 120 mg</td>\n",
       "      <td>tbl flm 30</td>\n",
       "      <td>RX</td>\n",
       "      <td>Nepriradená</td>\n",
       "      <td>Nepriradená</td>\n",
       "      <td>Nepriradená</td>\n",
       "      <td>Nepriradená</td>\n",
       "    </tr>\n",
       "    <tr>\n",
       "      <th>8551</th>\n",
       "      <td>175376</td>\n",
       "      <td>Lexaurin 3mg</td>\n",
       "      <td>tbl 28x3mg</td>\n",
       "      <td>RX</td>\n",
       "      <td>Nepriradená</td>\n",
       "      <td>Nepriradená</td>\n",
       "      <td>Nepriradená</td>\n",
       "      <td>Nepriradená</td>\n",
       "    </tr>\n",
       "    <tr>\n",
       "      <th>8638</th>\n",
       "      <td>175878</td>\n",
       "      <td>Lexaurin 1,5mg</td>\n",
       "      <td>tbl 28x1,5mg</td>\n",
       "      <td>RX</td>\n",
       "      <td>Nepriradená</td>\n",
       "      <td>Nepriradená</td>\n",
       "      <td>Nepriradená</td>\n",
       "      <td>Nepriradená</td>\n",
       "    </tr>\n",
       "  </tbody>\n",
       "</table>\n",
       "</div>"
      ],
      "text/plain": [
       "      idproduct                   product_name             product_form  \\\n",
       "50          407                      Dorsiflex             tbl 30x200mg   \n",
       "84          906                      Acylpyrin             tbl 10x500mg   \n",
       "251        2971                        Nasivin       gtt nas 10ml 0,05%   \n",
       "252        2972                        Nasivin  aer nas 10ml 0,05% sklo   \n",
       "413       25655                       Concor 5           tbl flm 30x5mg   \n",
       "452       27082                          Furon              tbl 50x40mg   \n",
       "486       28533                       Novalgin         tbl flm 20x500mg   \n",
       "659       30365                 Muconasal plus             aer nao 10ml   \n",
       "900       32570                       Sinupret                gtt 100ml   \n",
       "1034      34631                        Stilnox          tbl obd 20x10mg   \n",
       "1144      36496                    Betaloc zok          tbl mod 28x50mg   \n",
       "1178      36872                        Nebilet               tbl 28x5mg   \n",
       "1509      51526                         Agen 5               tbl 30x5mg   \n",
       "1597      53371                 Enelbin retard        tbl flm 100x100mg   \n",
       "1945      75593                         Neurol             tbl 30x0,5mg   \n",
       "2940     114184                   Nasivin soft     aer nao 1x10ml 0,05%   \n",
       "3288     120205                       Prenessa               tbl 90x4mg   \n",
       "4771     149133                       Theraflu             plo por 14ks   \n",
       "5744     162402                   Nasivin soft   aer nao 1x10 ml 0,025%   \n",
       "6763     167750  Paralen grip chripka a bolest               tbl flm 24   \n",
       "7598     171346                 Tebokan 120 mg               tbl flm 30   \n",
       "8551     175376                   Lexaurin 3mg               tbl 28x3mg   \n",
       "8638     175878                 Lexaurin 1,5mg             tbl 28x1,5mg   \n",
       "\n",
       "     product_type                  kategoria 0        kategoria 1  \\\n",
       "50             RX                  Nepriradená        Nepriradená   \n",
       "84            OTC         BOLESŤ A HORÚČKA OTC        Nepriradená   \n",
       "251           OTC                  Nepriradená        Nepriradená   \n",
       "252           OTC                  Nepriradená        Nepriradená   \n",
       "413            RX                  Nepriradená        Nepriradená   \n",
       "452            RX                  Nepriradená        Nepriradená   \n",
       "486            RX                  Nepriradená        Nepriradená   \n",
       "659           OTC                   NÁDCHA OTC            dospelí   \n",
       "900           OTC                  Nepriradená        Nepriradená   \n",
       "1034           RX                  Nepriradená        Nepriradená   \n",
       "1144           RX                  Nepriradená        Nepriradená   \n",
       "1178           RX                  Nepriradená        Nepriradená   \n",
       "1509           RX                  Nepriradená        Nepriradená   \n",
       "1597           RX                  Nepriradená        Nepriradená   \n",
       "1945           RX                  Nepriradená        Nepriradená   \n",
       "2940          OTC                  Nepriradená        Nepriradená   \n",
       "3288           RX                  Nepriradená        Nepriradená   \n",
       "4771          OTC  CHRÍPKA A PRECHLADNUTIE OTC  kombinované lieky   \n",
       "5744          OTC                  Nepriradená        Nepriradená   \n",
       "6763          OTC                  Nepriradená        Nepriradená   \n",
       "7598           RX                  Nepriradená        Nepriradená   \n",
       "8551           RX                  Nepriradená        Nepriradená   \n",
       "8638           RX                  Nepriradená        Nepriradená   \n",
       "\n",
       "      kategoria 2  kategoria 3  \n",
       "50    Nepriradená  Nepriradená  \n",
       "84    Nepriradená  Nepriradená  \n",
       "251   Nepriradená  Nepriradená  \n",
       "252   Nepriradená  Nepriradená  \n",
       "413   Nepriradená  Nepriradená  \n",
       "452   Nepriradená  Nepriradená  \n",
       "486   Nepriradená  Nepriradená  \n",
       "659        spreje  Nepriradená  \n",
       "900   Nepriradená  Nepriradená  \n",
       "1034  Nepriradená  Nepriradená  \n",
       "1144  Nepriradená  Nepriradená  \n",
       "1178  Nepriradená  Nepriradená  \n",
       "1509  Nepriradená  Nepriradená  \n",
       "1597  Nepriradená  Nepriradená  \n",
       "1945  Nepriradená  Nepriradená  \n",
       "2940  Nepriradená  Nepriradená  \n",
       "3288  Nepriradená  Nepriradená  \n",
       "4771       prášky  Nepriradená  \n",
       "5744  Nepriradená  Nepriradená  \n",
       "6763  Nepriradená  Nepriradená  \n",
       "7598  Nepriradená  Nepriradená  \n",
       "8551  Nepriradená  Nepriradená  \n",
       "8638  Nepriradená  Nepriradená  "
      ]
     },
     "execution_count": 17,
     "metadata": {},
     "output_type": "execute_result"
    }
   ],
   "source": [
    "#Creating new table \n",
    "purchased_df = products_df.loc[mask]\n",
    "purchased_df"
   ]
  },
  {
   "cell_type": "code",
   "execution_count": 18,
   "id": "34ffd6ce",
   "metadata": {},
   "outputs": [],
   "source": [
    "data = filtered_df\n",
    "purchased_df.insert(2,'Purchasing_Count',data)"
   ]
  },
  {
   "cell_type": "code",
   "execution_count": 19,
   "id": "cb95d5d0",
   "metadata": {},
   "outputs": [
    {
     "data": {
      "text/html": [
       "<div>\n",
       "<style scoped>\n",
       "    .dataframe tbody tr th:only-of-type {\n",
       "        vertical-align: middle;\n",
       "    }\n",
       "\n",
       "    .dataframe tbody tr th {\n",
       "        vertical-align: top;\n",
       "    }\n",
       "\n",
       "    .dataframe thead th {\n",
       "        text-align: right;\n",
       "    }\n",
       "</style>\n",
       "<table border=\"1\" class=\"dataframe\">\n",
       "  <thead>\n",
       "    <tr style=\"text-align: right;\">\n",
       "      <th></th>\n",
       "      <th>idproduct</th>\n",
       "      <th>product_name</th>\n",
       "      <th>Purchasing_Count</th>\n",
       "      <th>product_form</th>\n",
       "      <th>product_type</th>\n",
       "      <th>kategoria 0</th>\n",
       "      <th>kategoria 1</th>\n",
       "      <th>kategoria 2</th>\n",
       "      <th>kategoria 3</th>\n",
       "    </tr>\n",
       "  </thead>\n",
       "  <tbody>\n",
       "    <tr>\n",
       "      <th>50</th>\n",
       "      <td>407</td>\n",
       "      <td>Dorsiflex</td>\n",
       "      <td>1792</td>\n",
       "      <td>tbl 30x200mg</td>\n",
       "      <td>RX</td>\n",
       "      <td>Nepriradená</td>\n",
       "      <td>Nepriradená</td>\n",
       "      <td>Nepriradená</td>\n",
       "      <td>Nepriradená</td>\n",
       "    </tr>\n",
       "    <tr>\n",
       "      <th>84</th>\n",
       "      <td>906</td>\n",
       "      <td>Acylpyrin</td>\n",
       "      <td>3203</td>\n",
       "      <td>tbl 10x500mg</td>\n",
       "      <td>OTC</td>\n",
       "      <td>BOLESŤ A HORÚČKA OTC</td>\n",
       "      <td>Nepriradená</td>\n",
       "      <td>Nepriradená</td>\n",
       "      <td>Nepriradená</td>\n",
       "    </tr>\n",
       "    <tr>\n",
       "      <th>251</th>\n",
       "      <td>2971</td>\n",
       "      <td>Nasivin</td>\n",
       "      <td>1065</td>\n",
       "      <td>gtt nas 10ml 0,05%</td>\n",
       "      <td>OTC</td>\n",
       "      <td>Nepriradená</td>\n",
       "      <td>Nepriradená</td>\n",
       "      <td>Nepriradená</td>\n",
       "      <td>Nepriradená</td>\n",
       "    </tr>\n",
       "    <tr>\n",
       "      <th>252</th>\n",
       "      <td>2972</td>\n",
       "      <td>Nasivin</td>\n",
       "      <td>1120</td>\n",
       "      <td>aer nas 10ml 0,05% sklo</td>\n",
       "      <td>OTC</td>\n",
       "      <td>Nepriradená</td>\n",
       "      <td>Nepriradená</td>\n",
       "      <td>Nepriradená</td>\n",
       "      <td>Nepriradená</td>\n",
       "    </tr>\n",
       "    <tr>\n",
       "      <th>413</th>\n",
       "      <td>25655</td>\n",
       "      <td>Concor 5</td>\n",
       "      <td>2304</td>\n",
       "      <td>tbl flm 30x5mg</td>\n",
       "      <td>RX</td>\n",
       "      <td>Nepriradená</td>\n",
       "      <td>Nepriradená</td>\n",
       "      <td>Nepriradená</td>\n",
       "      <td>Nepriradená</td>\n",
       "    </tr>\n",
       "    <tr>\n",
       "      <th>452</th>\n",
       "      <td>27082</td>\n",
       "      <td>Furon</td>\n",
       "      <td>1726</td>\n",
       "      <td>tbl 50x40mg</td>\n",
       "      <td>RX</td>\n",
       "      <td>Nepriradená</td>\n",
       "      <td>Nepriradená</td>\n",
       "      <td>Nepriradená</td>\n",
       "      <td>Nepriradená</td>\n",
       "    </tr>\n",
       "    <tr>\n",
       "      <th>486</th>\n",
       "      <td>28533</td>\n",
       "      <td>Novalgin</td>\n",
       "      <td>3570</td>\n",
       "      <td>tbl flm 20x500mg</td>\n",
       "      <td>RX</td>\n",
       "      <td>Nepriradená</td>\n",
       "      <td>Nepriradená</td>\n",
       "      <td>Nepriradená</td>\n",
       "      <td>Nepriradená</td>\n",
       "    </tr>\n",
       "    <tr>\n",
       "      <th>659</th>\n",
       "      <td>30365</td>\n",
       "      <td>Muconasal plus</td>\n",
       "      <td>6786</td>\n",
       "      <td>aer nao 10ml</td>\n",
       "      <td>OTC</td>\n",
       "      <td>NÁDCHA OTC</td>\n",
       "      <td>dospelí</td>\n",
       "      <td>spreje</td>\n",
       "      <td>Nepriradená</td>\n",
       "    </tr>\n",
       "    <tr>\n",
       "      <th>900</th>\n",
       "      <td>32570</td>\n",
       "      <td>Sinupret</td>\n",
       "      <td>1052</td>\n",
       "      <td>gtt 100ml</td>\n",
       "      <td>OTC</td>\n",
       "      <td>Nepriradená</td>\n",
       "      <td>Nepriradená</td>\n",
       "      <td>Nepriradená</td>\n",
       "      <td>Nepriradená</td>\n",
       "    </tr>\n",
       "    <tr>\n",
       "      <th>1034</th>\n",
       "      <td>34631</td>\n",
       "      <td>Stilnox</td>\n",
       "      <td>1597</td>\n",
       "      <td>tbl obd 20x10mg</td>\n",
       "      <td>RX</td>\n",
       "      <td>Nepriradená</td>\n",
       "      <td>Nepriradená</td>\n",
       "      <td>Nepriradená</td>\n",
       "      <td>Nepriradená</td>\n",
       "    </tr>\n",
       "    <tr>\n",
       "      <th>1144</th>\n",
       "      <td>36496</td>\n",
       "      <td>Betaloc zok</td>\n",
       "      <td>1022</td>\n",
       "      <td>tbl mod 28x50mg</td>\n",
       "      <td>RX</td>\n",
       "      <td>Nepriradená</td>\n",
       "      <td>Nepriradená</td>\n",
       "      <td>Nepriradená</td>\n",
       "      <td>Nepriradená</td>\n",
       "    </tr>\n",
       "    <tr>\n",
       "      <th>1178</th>\n",
       "      <td>36872</td>\n",
       "      <td>Nebilet</td>\n",
       "      <td>2061</td>\n",
       "      <td>tbl 28x5mg</td>\n",
       "      <td>RX</td>\n",
       "      <td>Nepriradená</td>\n",
       "      <td>Nepriradená</td>\n",
       "      <td>Nepriradená</td>\n",
       "      <td>Nepriradená</td>\n",
       "    </tr>\n",
       "    <tr>\n",
       "      <th>1509</th>\n",
       "      <td>51526</td>\n",
       "      <td>Agen 5</td>\n",
       "      <td>1735</td>\n",
       "      <td>tbl 30x5mg</td>\n",
       "      <td>RX</td>\n",
       "      <td>Nepriradená</td>\n",
       "      <td>Nepriradená</td>\n",
       "      <td>Nepriradená</td>\n",
       "      <td>Nepriradená</td>\n",
       "    </tr>\n",
       "    <tr>\n",
       "      <th>1597</th>\n",
       "      <td>53371</td>\n",
       "      <td>Enelbin retard</td>\n",
       "      <td>1659</td>\n",
       "      <td>tbl flm 100x100mg</td>\n",
       "      <td>RX</td>\n",
       "      <td>Nepriradená</td>\n",
       "      <td>Nepriradená</td>\n",
       "      <td>Nepriradená</td>\n",
       "      <td>Nepriradená</td>\n",
       "    </tr>\n",
       "    <tr>\n",
       "      <th>1945</th>\n",
       "      <td>75593</td>\n",
       "      <td>Neurol</td>\n",
       "      <td>1266</td>\n",
       "      <td>tbl 30x0,5mg</td>\n",
       "      <td>RX</td>\n",
       "      <td>Nepriradená</td>\n",
       "      <td>Nepriradená</td>\n",
       "      <td>Nepriradená</td>\n",
       "      <td>Nepriradená</td>\n",
       "    </tr>\n",
       "    <tr>\n",
       "      <th>2940</th>\n",
       "      <td>114184</td>\n",
       "      <td>Nasivin soft</td>\n",
       "      <td>1069</td>\n",
       "      <td>aer nao 1x10ml 0,05%</td>\n",
       "      <td>OTC</td>\n",
       "      <td>Nepriradená</td>\n",
       "      <td>Nepriradená</td>\n",
       "      <td>Nepriradená</td>\n",
       "      <td>Nepriradená</td>\n",
       "    </tr>\n",
       "    <tr>\n",
       "      <th>3288</th>\n",
       "      <td>120205</td>\n",
       "      <td>Prenessa</td>\n",
       "      <td>1084</td>\n",
       "      <td>tbl 90x4mg</td>\n",
       "      <td>RX</td>\n",
       "      <td>Nepriradená</td>\n",
       "      <td>Nepriradená</td>\n",
       "      <td>Nepriradená</td>\n",
       "      <td>Nepriradená</td>\n",
       "    </tr>\n",
       "    <tr>\n",
       "      <th>4771</th>\n",
       "      <td>149133</td>\n",
       "      <td>Theraflu</td>\n",
       "      <td>2061</td>\n",
       "      <td>plo por 14ks</td>\n",
       "      <td>OTC</td>\n",
       "      <td>CHRÍPKA A PRECHLADNUTIE OTC</td>\n",
       "      <td>kombinované lieky</td>\n",
       "      <td>prášky</td>\n",
       "      <td>Nepriradená</td>\n",
       "    </tr>\n",
       "    <tr>\n",
       "      <th>5744</th>\n",
       "      <td>162402</td>\n",
       "      <td>Nasivin soft</td>\n",
       "      <td>1089</td>\n",
       "      <td>aer nao 1x10 ml 0,025%</td>\n",
       "      <td>OTC</td>\n",
       "      <td>Nepriradená</td>\n",
       "      <td>Nepriradená</td>\n",
       "      <td>Nepriradená</td>\n",
       "      <td>Nepriradená</td>\n",
       "    </tr>\n",
       "    <tr>\n",
       "      <th>6763</th>\n",
       "      <td>167750</td>\n",
       "      <td>Paralen grip chripka a bolest</td>\n",
       "      <td>1558</td>\n",
       "      <td>tbl flm 24</td>\n",
       "      <td>OTC</td>\n",
       "      <td>Nepriradená</td>\n",
       "      <td>Nepriradená</td>\n",
       "      <td>Nepriradená</td>\n",
       "      <td>Nepriradená</td>\n",
       "    </tr>\n",
       "    <tr>\n",
       "      <th>7598</th>\n",
       "      <td>171346</td>\n",
       "      <td>Tebokan 120 mg</td>\n",
       "      <td>1238</td>\n",
       "      <td>tbl flm 30</td>\n",
       "      <td>RX</td>\n",
       "      <td>Nepriradená</td>\n",
       "      <td>Nepriradená</td>\n",
       "      <td>Nepriradená</td>\n",
       "      <td>Nepriradená</td>\n",
       "    </tr>\n",
       "    <tr>\n",
       "      <th>8551</th>\n",
       "      <td>175376</td>\n",
       "      <td>Lexaurin 3mg</td>\n",
       "      <td>1202</td>\n",
       "      <td>tbl 28x3mg</td>\n",
       "      <td>RX</td>\n",
       "      <td>Nepriradená</td>\n",
       "      <td>Nepriradená</td>\n",
       "      <td>Nepriradená</td>\n",
       "      <td>Nepriradená</td>\n",
       "    </tr>\n",
       "    <tr>\n",
       "      <th>8638</th>\n",
       "      <td>175878</td>\n",
       "      <td>Lexaurin 1,5mg</td>\n",
       "      <td>1055</td>\n",
       "      <td>tbl 28x1,5mg</td>\n",
       "      <td>RX</td>\n",
       "      <td>Nepriradená</td>\n",
       "      <td>Nepriradená</td>\n",
       "      <td>Nepriradená</td>\n",
       "      <td>Nepriradená</td>\n",
       "    </tr>\n",
       "  </tbody>\n",
       "</table>\n",
       "</div>"
      ],
      "text/plain": [
       "      idproduct                   product_name  Purchasing_Count  \\\n",
       "50          407                      Dorsiflex              1792   \n",
       "84          906                      Acylpyrin              3203   \n",
       "251        2971                        Nasivin              1065   \n",
       "252        2972                        Nasivin              1120   \n",
       "413       25655                       Concor 5              2304   \n",
       "452       27082                          Furon              1726   \n",
       "486       28533                       Novalgin              3570   \n",
       "659       30365                 Muconasal plus              6786   \n",
       "900       32570                       Sinupret              1052   \n",
       "1034      34631                        Stilnox              1597   \n",
       "1144      36496                    Betaloc zok              1022   \n",
       "1178      36872                        Nebilet              2061   \n",
       "1509      51526                         Agen 5              1735   \n",
       "1597      53371                 Enelbin retard              1659   \n",
       "1945      75593                         Neurol              1266   \n",
       "2940     114184                   Nasivin soft              1069   \n",
       "3288     120205                       Prenessa              1084   \n",
       "4771     149133                       Theraflu              2061   \n",
       "5744     162402                   Nasivin soft              1089   \n",
       "6763     167750  Paralen grip chripka a bolest              1558   \n",
       "7598     171346                 Tebokan 120 mg              1238   \n",
       "8551     175376                   Lexaurin 3mg              1202   \n",
       "8638     175878                 Lexaurin 1,5mg              1055   \n",
       "\n",
       "                 product_form product_type                  kategoria 0  \\\n",
       "50               tbl 30x200mg           RX                  Nepriradená   \n",
       "84               tbl 10x500mg          OTC         BOLESŤ A HORÚČKA OTC   \n",
       "251        gtt nas 10ml 0,05%          OTC                  Nepriradená   \n",
       "252   aer nas 10ml 0,05% sklo          OTC                  Nepriradená   \n",
       "413            tbl flm 30x5mg           RX                  Nepriradená   \n",
       "452               tbl 50x40mg           RX                  Nepriradená   \n",
       "486          tbl flm 20x500mg           RX                  Nepriradená   \n",
       "659              aer nao 10ml          OTC                   NÁDCHA OTC   \n",
       "900                 gtt 100ml          OTC                  Nepriradená   \n",
       "1034          tbl obd 20x10mg           RX                  Nepriradená   \n",
       "1144          tbl mod 28x50mg           RX                  Nepriradená   \n",
       "1178               tbl 28x5mg           RX                  Nepriradená   \n",
       "1509               tbl 30x5mg           RX                  Nepriradená   \n",
       "1597        tbl flm 100x100mg           RX                  Nepriradená   \n",
       "1945             tbl 30x0,5mg           RX                  Nepriradená   \n",
       "2940     aer nao 1x10ml 0,05%          OTC                  Nepriradená   \n",
       "3288               tbl 90x4mg           RX                  Nepriradená   \n",
       "4771             plo por 14ks          OTC  CHRÍPKA A PRECHLADNUTIE OTC   \n",
       "5744   aer nao 1x10 ml 0,025%          OTC                  Nepriradená   \n",
       "6763               tbl flm 24          OTC                  Nepriradená   \n",
       "7598               tbl flm 30           RX                  Nepriradená   \n",
       "8551               tbl 28x3mg           RX                  Nepriradená   \n",
       "8638             tbl 28x1,5mg           RX                  Nepriradená   \n",
       "\n",
       "            kategoria 1  kategoria 2  kategoria 3  \n",
       "50          Nepriradená  Nepriradená  Nepriradená  \n",
       "84          Nepriradená  Nepriradená  Nepriradená  \n",
       "251         Nepriradená  Nepriradená  Nepriradená  \n",
       "252         Nepriradená  Nepriradená  Nepriradená  \n",
       "413         Nepriradená  Nepriradená  Nepriradená  \n",
       "452         Nepriradená  Nepriradená  Nepriradená  \n",
       "486         Nepriradená  Nepriradená  Nepriradená  \n",
       "659             dospelí       spreje  Nepriradená  \n",
       "900         Nepriradená  Nepriradená  Nepriradená  \n",
       "1034        Nepriradená  Nepriradená  Nepriradená  \n",
       "1144        Nepriradená  Nepriradená  Nepriradená  \n",
       "1178        Nepriradená  Nepriradená  Nepriradená  \n",
       "1509        Nepriradená  Nepriradená  Nepriradená  \n",
       "1597        Nepriradená  Nepriradená  Nepriradená  \n",
       "1945        Nepriradená  Nepriradená  Nepriradená  \n",
       "2940        Nepriradená  Nepriradená  Nepriradená  \n",
       "3288        Nepriradená  Nepriradená  Nepriradená  \n",
       "4771  kombinované lieky       prášky  Nepriradená  \n",
       "5744        Nepriradená  Nepriradená  Nepriradená  \n",
       "6763        Nepriradená  Nepriradená  Nepriradená  \n",
       "7598        Nepriradená  Nepriradená  Nepriradená  \n",
       "8551        Nepriradená  Nepriradená  Nepriradená  \n",
       "8638        Nepriradená  Nepriradená  Nepriradená  "
      ]
     },
     "execution_count": 19,
     "metadata": {},
     "output_type": "execute_result"
    }
   ],
   "source": [
    "purchased_df"
   ]
  },
  {
   "cell_type": "code",
   "execution_count": 20,
   "id": "690d6a58",
   "metadata": {},
   "outputs": [
    {
     "data": {
      "text/plain": [
       "<AxesSubplot:>"
      ]
     },
     "execution_count": 20,
     "metadata": {},
     "output_type": "execute_result"
    },
    {
     "data": {
      "image/png": "[encoded data removed]",
      "text/plain": [
       "<Figure size 432x288 with 1 Axes>"
      ]
     },
     "metadata": {
      "needs_background": "light"
     },
     "output_type": "display_data"
    }
   ],
   "source": [
    "#At this histogram we see some unusuall customers behavior, there is product which they bought more than others\n",
    "purchased_df['Purchasing_Count'].hist(color='red')"
   ]
  },
  {
   "cell_type": "code",
   "execution_count": 21,
   "id": "534e65bf",
   "metadata": {},
   "outputs": [
    {
     "data": {
      "text/html": [
       "<div>\n",
       "<style scoped>\n",
       "    .dataframe tbody tr th:only-of-type {\n",
       "        vertical-align: middle;\n",
       "    }\n",
       "\n",
       "    .dataframe tbody tr th {\n",
       "        vertical-align: top;\n",
       "    }\n",
       "\n",
       "    .dataframe thead th {\n",
       "        text-align: right;\n",
       "    }\n",
       "</style>\n",
       "<table border=\"1\" class=\"dataframe\">\n",
       "  <thead>\n",
       "    <tr style=\"text-align: right;\">\n",
       "      <th></th>\n",
       "      <th>idproduct</th>\n",
       "      <th>product_name</th>\n",
       "      <th>Purchasing_Count</th>\n",
       "      <th>product_form</th>\n",
       "      <th>product_type</th>\n",
       "      <th>kategoria 0</th>\n",
       "      <th>kategoria 1</th>\n",
       "      <th>kategoria 2</th>\n",
       "      <th>kategoria 3</th>\n",
       "    </tr>\n",
       "  </thead>\n",
       "  <tbody>\n",
       "    <tr>\n",
       "      <th>659</th>\n",
       "      <td>30365</td>\n",
       "      <td>Muconasal plus</td>\n",
       "      <td>6786</td>\n",
       "      <td>aer nao 10ml</td>\n",
       "      <td>OTC</td>\n",
       "      <td>NÁDCHA OTC</td>\n",
       "      <td>dospelí</td>\n",
       "      <td>spreje</td>\n",
       "      <td>Nepriradená</td>\n",
       "    </tr>\n",
       "  </tbody>\n",
       "</table>\n",
       "</div>"
      ],
      "text/plain": [
       "     idproduct    product_name  Purchasing_Count  product_form product_type  \\\n",
       "659      30365  Muconasal plus              6786  aer nao 10ml          OTC   \n",
       "\n",
       "    kategoria 0 kategoria 1 kategoria 2  kategoria 3  \n",
       "659  NÁDCHA OTC     dospelí      spreje  Nepriradená  "
      ]
     },
     "execution_count": 21,
     "metadata": {},
     "output_type": "execute_result"
    }
   ],
   "source": [
    "#there are our promo-product which brings unsuall behavior, now we can find time when promo had been provided\n",
    "unusuall_purchased = purchased_df.query('Purchasing_Count>6000')\n",
    "\n",
    "unusuall_purchased"
   ]
  },
  {
   "cell_type": "code",
   "execution_count": 22,
   "id": "52405d0e",
   "metadata": {},
   "outputs": [
    {
     "data": {
      "text/html": [
       "<div>\n",
       "<style scoped>\n",
       "    .dataframe tbody tr th:only-of-type {\n",
       "        vertical-align: middle;\n",
       "    }\n",
       "\n",
       "    .dataframe tbody tr th {\n",
       "        vertical-align: top;\n",
       "    }\n",
       "\n",
       "    .dataframe thead th {\n",
       "        text-align: right;\n",
       "    }\n",
       "</style>\n",
       "<table border=\"1\" class=\"dataframe\">\n",
       "  <thead>\n",
       "    <tr style=\"text-align: right;\">\n",
       "      <th></th>\n",
       "      <th>dateorder</th>\n",
       "      <th>idbill</th>\n",
       "      <th>idproduct</th>\n",
       "      <th>qty</th>\n",
       "      <th>price</th>\n",
       "    </tr>\n",
       "  </thead>\n",
       "  <tbody>\n",
       "    <tr>\n",
       "      <th>184420</th>\n",
       "      <td>2020-10-30</td>\n",
       "      <td>134611</td>\n",
       "      <td>189791</td>\n",
       "      <td>-8.0</td>\n",
       "      <td>-87.47</td>\n",
       "    </tr>\n",
       "    <tr>\n",
       "      <th>184421</th>\n",
       "      <td>2020-10-30</td>\n",
       "      <td>134613</td>\n",
       "      <td>163995</td>\n",
       "      <td>-1.0</td>\n",
       "      <td>-27.49</td>\n",
       "    </tr>\n",
       "    <tr>\n",
       "      <th>184422</th>\n",
       "      <td>2020-10-30</td>\n",
       "      <td>134674</td>\n",
       "      <td>163995</td>\n",
       "      <td>-1.0</td>\n",
       "      <td>-27.49</td>\n",
       "    </tr>\n",
       "    <tr>\n",
       "      <th>184423</th>\n",
       "      <td>2020-10-30</td>\n",
       "      <td>134709</td>\n",
       "      <td>14890</td>\n",
       "      <td>-1.0</td>\n",
       "      <td>-7.69</td>\n",
       "    </tr>\n",
       "    <tr>\n",
       "      <th>184424</th>\n",
       "      <td>2020-10-30</td>\n",
       "      <td>134709</td>\n",
       "      <td>30365</td>\n",
       "      <td>-1.0</td>\n",
       "      <td>-6.04</td>\n",
       "    </tr>\n",
       "    <tr>\n",
       "      <th>184425</th>\n",
       "      <td>2020-10-30</td>\n",
       "      <td>134709</td>\n",
       "      <td>161126</td>\n",
       "      <td>-1.0</td>\n",
       "      <td>-10.44</td>\n",
       "    </tr>\n",
       "    <tr>\n",
       "      <th>184426</th>\n",
       "      <td>2020-10-30</td>\n",
       "      <td>134709</td>\n",
       "      <td>186712</td>\n",
       "      <td>-1.0</td>\n",
       "      <td>-5.49</td>\n",
       "    </tr>\n",
       "    <tr>\n",
       "      <th>184427</th>\n",
       "      <td>2020-10-30</td>\n",
       "      <td>134713</td>\n",
       "      <td>192132</td>\n",
       "      <td>-1.0</td>\n",
       "      <td>-41.35</td>\n",
       "    </tr>\n",
       "  </tbody>\n",
       "</table>\n",
       "</div>"
      ],
      "text/plain": [
       "        dateorder  idbill  idproduct  qty  price\n",
       "184420 2020-10-30  134611     189791 -8.0 -87.47\n",
       "184421 2020-10-30  134613     163995 -1.0 -27.49\n",
       "184422 2020-10-30  134674     163995 -1.0 -27.49\n",
       "184423 2020-10-30  134709      14890 -1.0  -7.69\n",
       "184424 2020-10-30  134709      30365 -1.0  -6.04\n",
       "184425 2020-10-30  134709     161126 -1.0 -10.44\n",
       "184426 2020-10-30  134709     186712 -1.0  -5.49\n",
       "184427 2020-10-30  134713     192132 -1.0 -41.35"
      ]
     },
     "execution_count": 22,
     "metadata": {},
     "output_type": "execute_result"
    }
   ],
   "source": [
    "#As we see there are some negative valuese (maybe it has been rejection from product), it do not involved on our count of idproduts but will involve on price and quantity products\n",
    "transactions_df[transactions_df['price']<0]"
   ]
  },
  {
   "cell_type": "code",
   "execution_count": 51,
   "id": "32ab7b60",
   "metadata": {},
   "outputs": [],
   "source": [
    "drop_neg = transactions_df[transactions_df['price']<0].index\n",
    "transactions_df.drop(drop_neg, inplace=True)"
   ]
  },
  {
   "cell_type": "code",
   "execution_count": 52,
   "id": "c3991221",
   "metadata": {},
   "outputs": [
    {
     "data": {
      "text/plain": [
       "0         False\n",
       "1         False\n",
       "2         False\n",
       "3         False\n",
       "4         False\n",
       "          ...  \n",
       "186598    False\n",
       "186599     True\n",
       "186600    False\n",
       "186601    False\n",
       "186602    False\n",
       "Name: idproduct, Length: 186595, dtype: bool"
      ]
     },
     "execution_count": 52,
     "metadata": {},
     "output_type": "execute_result"
    }
   ],
   "source": [
    "mask_ = transactions_df['idproduct'].isin([30365])\n",
    "mask_"
   ]
  },
  {
   "cell_type": "code",
   "execution_count": 53,
   "id": "2521fd7a",
   "metadata": {},
   "outputs": [
    {
     "data": {
      "text/plain": [
       "7878.0"
      ]
     },
     "execution_count": 53,
     "metadata": {},
     "output_type": "execute_result"
    }
   ],
   "source": [
    "promo_product = transactions_df.loc[mask_]\n",
    "promo_product['qty'].sum()"
   ]
  },
  {
   "cell_type": "code",
   "execution_count": 54,
   "id": "6582c672",
   "metadata": {},
   "outputs": [
    {
     "data": {
      "text/plain": [
       "<AxesSubplot:xlabel='qty', ylabel='dateorder'>"
      ]
     },
     "execution_count": 54,
     "metadata": {},
     "output_type": "execute_result"
    },
    {
     "data": {
      "image/png": "[encoded data removed]",
      "text/plain": [
       "<Figure size 432x288 with 1 Axes>"
      ]
     },
     "metadata": {
      "needs_background": "light"
     },
     "output_type": "display_data"
    }
   ],
   "source": [
    "#Scatter plot shows that there are some leaders in quantity purchasing \n",
    "transactions_df.plot(x=\"qty\", y=\"dateorder\", kind=\"scatter\")"
   ]
  },
  {
   "cell_type": "code",
   "execution_count": 55,
   "id": "714174af",
   "metadata": {},
   "outputs": [],
   "source": [
    "#Lets see maybe we have some another leaders, by quantity of purchase\n",
    "transactions_df[transactions_df['qty']>40]\n",
    "qty_leaders = transactions_df.query('qty>40')"
   ]
  },
  {
   "cell_type": "code",
   "execution_count": 56,
   "id": "4235eebc",
   "metadata": {},
   "outputs": [
    {
     "data": {
      "text/plain": [
       "array([151753, 151754, 179762, 190434, 136360])"
      ]
     },
     "execution_count": 56,
     "metadata": {},
     "output_type": "execute_result"
    }
   ],
   "source": [
    "qty_leaders_arr=qty_leaders['idproduct'].unique()\n",
    "qty_leaders_arr"
   ]
  },
  {
   "cell_type": "code",
   "execution_count": 57,
   "id": "5b334ff8",
   "metadata": {},
   "outputs": [
    {
     "data": {
      "text/plain": [
       "0       False\n",
       "1       False\n",
       "2       False\n",
       "3       False\n",
       "4       False\n",
       "        ...  \n",
       "2264    False\n",
       "2265    False\n",
       "2266    False\n",
       "2267    False\n",
       "2268    False\n",
       "Name: idproduct, Length: 2269, dtype: bool"
      ]
     },
     "execution_count": 57,
     "metadata": {},
     "output_type": "execute_result"
    }
   ],
   "source": [
    "mask_qty = df_freq['idproduct'].isin(qty_leaders_arr)\n",
    "mask_qty"
   ]
  },
  {
   "cell_type": "code",
   "execution_count": 58,
   "id": "d4ab5cec",
   "metadata": {},
   "outputs": [
    {
     "data": {
      "text/html": [
       "<div>\n",
       "<style scoped>\n",
       "    .dataframe tbody tr th:only-of-type {\n",
       "        vertical-align: middle;\n",
       "    }\n",
       "\n",
       "    .dataframe tbody tr th {\n",
       "        vertical-align: top;\n",
       "    }\n",
       "\n",
       "    .dataframe thead th {\n",
       "        text-align: right;\n",
       "    }\n",
       "</style>\n",
       "<table border=\"1\" class=\"dataframe\">\n",
       "  <thead>\n",
       "    <tr style=\"text-align: right;\">\n",
       "      <th></th>\n",
       "      <th>idproduct</th>\n",
       "      <th>count</th>\n",
       "    </tr>\n",
       "  </thead>\n",
       "  <tbody>\n",
       "    <tr>\n",
       "      <th>808</th>\n",
       "      <td>136360</td>\n",
       "      <td>1</td>\n",
       "    </tr>\n",
       "    <tr>\n",
       "      <th>952</th>\n",
       "      <td>151753</td>\n",
       "      <td>4</td>\n",
       "    </tr>\n",
       "    <tr>\n",
       "      <th>953</th>\n",
       "      <td>151754</td>\n",
       "      <td>2</td>\n",
       "    </tr>\n",
       "    <tr>\n",
       "      <th>1762</th>\n",
       "      <td>179762</td>\n",
       "      <td>3</td>\n",
       "    </tr>\n",
       "    <tr>\n",
       "      <th>2154</th>\n",
       "      <td>190434</td>\n",
       "      <td>2</td>\n",
       "    </tr>\n",
       "  </tbody>\n",
       "</table>\n",
       "</div>"
      ],
      "text/plain": [
       "      idproduct  count\n",
       "808      136360      1\n",
       "952      151753      4\n",
       "953      151754      2\n",
       "1762     179762      3\n",
       "2154     190434      2"
      ]
     },
     "execution_count": 58,
     "metadata": {},
     "output_type": "execute_result"
    }
   ],
   "source": [
    "#here we see that it was single purchase\n",
    "qty_leaders_count = df_freq.loc[mask_qty]\n",
    "qty_leaders_count"
   ]
  },
  {
   "cell_type": "code",
   "execution_count": 59,
   "id": "5136d2c4",
   "metadata": {},
   "outputs": [],
   "source": [
    "qty_m  =transactions_df['idproduct'].isin(qty_leaders_arr)\n",
    "qty_m\n",
    "qty_quntity_df = transactions_df.loc[qty_m]"
   ]
  },
  {
   "cell_type": "code",
   "execution_count": 60,
   "id": "751cad05",
   "metadata": {},
   "outputs": [
    {
     "name": "stderr",
     "output_type": "stream",
     "text": [
      "/var/folders/_x/y7p2294s4t722sptmn184bvw0000gn/T/ipykernel_1413/2878124742.py:3: FutureWarning: Dropping of nuisance columns in DataFrame reductions (with 'numeric_only=None') is deprecated; in a future version this will raise TypeError.  Select only valid columns before calling the reduction.\n",
      "  qty_quntity_df.sum()\n"
     ]
    },
    {
     "data": {
      "text/plain": [
       "idbill       1468899.00\n",
       "idproduct    1967034.00\n",
       "qty             1028.00\n",
       "price            978.41\n",
       "dtype: float64"
      ]
     },
     "execution_count": 60,
     "metadata": {},
     "output_type": "execute_result"
    }
   ],
   "source": [
    "#here we see that even 5 quantity leaders can't reach Promo-product which has been purchased 7878.0 times\n",
    "#Means that it was large purchase for several persons and does not involve on common customer behavior\n",
    "qty_quntity_df.sum()"
   ]
  },
  {
   "cell_type": "code",
   "execution_count": null,
   "id": "c1812983",
   "metadata": {},
   "outputs": [],
   "source": []
  },
  {
   "cell_type": "code",
   "execution_count": 72,
   "id": "7a7bfe45",
   "metadata": {},
   "outputs": [],
   "source": [
    "group_promo = promo_product.groupby('dateorder')['qty'].sum()"
   ]
  },
  {
   "cell_type": "code",
   "execution_count": 73,
   "id": "0724bc0f",
   "metadata": {},
   "outputs": [],
   "source": [
    "group_trans = transactions_df.groupby('dateorder')['qty'].sum()"
   ]
  },
  {
   "cell_type": "code",
   "execution_count": 74,
   "id": "09195171",
   "metadata": {},
   "outputs": [
    {
     "data": {
      "text/plain": [
       "<AxesSubplot:xlabel='dateorder'>"
      ]
     },
     "execution_count": 74,
     "metadata": {},
     "output_type": "execute_result"
    },
    {
     "data": {
      "image/png": "[encoded data removed]",
      "text/plain": [
       "<Figure size 432x288 with 1 Axes>"
      ]
     },
     "metadata": {
      "needs_background": "light"
     },
     "output_type": "display_data"
    }
   ],
   "source": [
    "#Correlation between date and quantity of purchasing shows as untersing moment about date 10/22/2020\n",
    "group_trans.plot(fontsize = 8)"
   ]
  },
  {
   "cell_type": "code",
   "execution_count": 77,
   "id": "3f5559da",
   "metadata": {},
   "outputs": [
    {
     "data": {
      "text/plain": [
       "<AxesSubplot:xlabel='dateorder'>"
      ]
     },
     "execution_count": 77,
     "metadata": {},
     "output_type": "execute_result"
    },
    {
     "data": {
      "image/png": "[encoded data removed]",
      "text/plain": [
       "<Figure size 432x288 with 1 Axes>"
      ]
     },
     "metadata": {
      "needs_background": "light"
     },
     "output_type": "display_data"
    }
   ],
   "source": [
    "#If we take a look at plot wich represents Promo_product purchase to us, sipmly see sales peak at 10/22/2020\n",
    "group_promo.plot(fontsize = 8)"
   ]
  },
  {
   "cell_type": "code",
   "execution_count": 78,
   "id": "9cf43791",
   "metadata": {},
   "outputs": [
    {
     "data": {
      "text/html": [
       "<div>\n",
       "<style scoped>\n",
       "    .dataframe tbody tr th:only-of-type {\n",
       "        vertical-align: middle;\n",
       "    }\n",
       "\n",
       "    .dataframe tbody tr th {\n",
       "        vertical-align: top;\n",
       "    }\n",
       "\n",
       "    .dataframe thead th {\n",
       "        text-align: right;\n",
       "    }\n",
       "</style>\n",
       "<table border=\"1\" class=\"dataframe\">\n",
       "  <thead>\n",
       "    <tr style=\"text-align: right;\">\n",
       "      <th></th>\n",
       "      <th>idproduct</th>\n",
       "      <th>product_name</th>\n",
       "      <th>Purchasing_Count</th>\n",
       "      <th>product_form</th>\n",
       "      <th>product_type</th>\n",
       "      <th>kategoria 0</th>\n",
       "      <th>kategoria 1</th>\n",
       "      <th>kategoria 2</th>\n",
       "      <th>kategoria 3</th>\n",
       "    </tr>\n",
       "  </thead>\n",
       "  <tbody>\n",
       "    <tr>\n",
       "      <th>659</th>\n",
       "      <td>30365</td>\n",
       "      <td>Muconasal plus</td>\n",
       "      <td>6786</td>\n",
       "      <td>aer nao 10ml</td>\n",
       "      <td>OTC</td>\n",
       "      <td>NÁDCHA OTC</td>\n",
       "      <td>dospelí</td>\n",
       "      <td>spreje</td>\n",
       "      <td>Nepriradená</td>\n",
       "    </tr>\n",
       "  </tbody>\n",
       "</table>\n",
       "</div>"
      ],
      "text/plain": [
       "     idproduct    product_name  Purchasing_Count  product_form product_type  \\\n",
       "659      30365  Muconasal plus              6786  aer nao 10ml          OTC   \n",
       "\n",
       "    kategoria 0 kategoria 1 kategoria 2  kategoria 3  \n",
       "659  NÁDCHA OTC     dospelí      spreje  Nepriradená  "
      ]
     },
     "execution_count": 78,
     "metadata": {},
     "output_type": "execute_result"
    }
   ],
   "source": [
    "#Investigation of dataset brings some crusial answers after vizualization at line [20] where has shown unsual amount of sales\n",
    "#1. The best purchased product is \n",
    "unusuall_purchased"
   ]
  },
  {
   "cell_type": "code",
   "execution_count": 79,
   "id": "8cea34f7",
   "metadata": {},
   "outputs": [],
   "source": [
    "#2. Quantity does not involves on leaders of sales. Important how often product appears in the bills\n",
    "#That shows Scatter plot at line [54] and comparsion sales amount of Quantity-leaders and Promo-product \n"
   ]
  },
  {
   "cell_type": "code",
   "execution_count": 80,
   "id": "8c3a7ded",
   "metadata": {},
   "outputs": [],
   "source": [
    "#3. After investigation of transactions dates, has found that sales peak take a place at 10/22/2020\n",
    "#It shows growth of sales till that date and decline after\n",
    "#I suggest 10/22/2020 could be end of the promo action, because people buy products better if product is in the deficit"
   ]
  },
  {
   "cell_type": "code",
   "execution_count": 39,
   "id": "d82c6d9c",
   "metadata": {},
   "outputs": [],
   "source": [
    "transactions_df.to_csv('Transactions.csv')"
   ]
  },
  {
   "cell_type": "code",
   "execution_count": 42,
   "id": "d89088ca",
   "metadata": {},
   "outputs": [],
   "source": [
    "df_freq.to_csv('Products_frequency_in_bill.csv')"
   ]
  },
  {
   "cell_type": "code",
   "execution_count": 44,
   "id": "715b2ee4",
   "metadata": {},
   "outputs": [],
   "source": [
    "filtered_df.to_csv('Purchase_leaders.csv')"
   ]
  },
  {
   "cell_type": "code",
   "execution_count": 46,
   "id": "ce47ff0c",
   "metadata": {},
   "outputs": [],
   "source": [
    "purchased_df.to_csv('Products_purchase_top.csv')"
   ]
  },
  {
   "cell_type": "code",
   "execution_count": 62,
   "id": "eaae438a",
   "metadata": {},
   "outputs": [],
   "source": [
    "promo_product.to_csv('Transactions_promo_product.csv')"
   ]
  },
  {
   "cell_type": "code",
   "execution_count": 81,
   "id": "0537da0d",
   "metadata": {},
   "outputs": [],
   "source": [
    "#Thank you \n",
    "#Kind regards"
   ]
  }
 ],
 "metadata": {
  "kernelspec": {
   "display_name": "Python 3 (ipykernel)",
   "language": "python",
   "name": "python3"
  },
  "language_info": {
   "codemirror_mode": {
    "name": "ipython",
    "version": 3
   },
   "file_extension": ".py",
   "mimetype": "text/x-python",
   "name": "python",
   "nbconvert_exporter": "python",
   "pygments_lexer": "ipython3",
   "version": "3.9.7"
  }
 },
 "nbformat": 4,
 "nbformat_minor": 5
}
